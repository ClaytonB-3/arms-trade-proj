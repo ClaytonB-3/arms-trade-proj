{
 "cells": [
  {
   "cell_type": "code",
   "execution_count": 61,
   "id": "bd438d94-227e-4abd-bdd1-b4da30878465",
   "metadata": {},
   "outputs": [],
   "source": [
    "import pandas as pd\n",
    "import chardet\n",
    "import pycountry\n",
    "import numpy as np\n",
    "from datetime import datetime\n",
    "from geopy.geocoders import Nominatim\n"
   ]
  },
  {
   "cell_type": "code",
   "execution_count": 62,
   "id": "1fee90dc-8143-4b10-9892-cdbe7e317713",
   "metadata": {},
   "outputs": [
    {
     "data": {
      "text/plain": [
       "'20241122'"
      ]
     },
     "execution_count": 62,
     "metadata": {},
     "output_type": "execute_result"
    }
   ],
   "source": [
    "current_date = datetime.now().strftime(\"%Y%m%d\")\n",
    "current_date"
   ]
  },
  {
   "cell_type": "markdown",
   "id": "3bbac145-824f-475d-872f-14014fed58cf",
   "metadata": {},
   "source": [
    "## Investigating countries not recognized by Tableau \n",
    "Put the source data in tableau and made two csvs of countries it couldn't recognize/map. Then make a list of unique countries between recipients and suppliers. This will give us a full list of the countries in our data that Tableau doesn't recognize so we can decide how to handle them. "
   ]
  },
  {
   "cell_type": "code",
   "execution_count": 63,
   "id": "ba85d40e-b974-412d-bb74-275e13da94b6",
   "metadata": {},
   "outputs": [
    {
     "name": "stdout",
     "output_type": "stream",
     "text": [
      "UTF-16\n"
     ]
    }
   ],
   "source": [
    "with open(\"int_data/unidentified_suppliers.csv\", \"rb\") as f:\n",
    "    supp_encoding = chardet.detect(f.read())\n",
    "    print(supp_encoding[\"encoding\"])"
   ]
  },
  {
   "cell_type": "code",
   "execution_count": 64,
   "id": "cfb3958d-0cf4-4a46-8ce1-a343a78c1f40",
   "metadata": {},
   "outputs": [
    {
     "data": {
      "text/html": [
       "<div>\n",
       "<style scoped>\n",
       "    .dataframe tbody tr th:only-of-type {\n",
       "        vertical-align: middle;\n",
       "    }\n",
       "\n",
       "    .dataframe tbody tr th {\n",
       "        vertical-align: top;\n",
       "    }\n",
       "\n",
       "    .dataframe thead th {\n",
       "        text-align: right;\n",
       "    }\n",
       "</style>\n",
       "<table border=\"1\" class=\"dataframe\">\n",
       "  <thead>\n",
       "    <tr style=\"text-align: right;\">\n",
       "      <th></th>\n",
       "      <th>index</th>\n",
       "      <th>Supplier</th>\n",
       "      <th>Number ordered</th>\n",
       "    </tr>\n",
       "  </thead>\n",
       "  <tbody>\n",
       "    <tr>\n",
       "      <th>0</th>\n",
       "      <td>0</td>\n",
       "      <td>Yugoslavia</td>\n",
       "      <td>2198.0</td>\n",
       "    </tr>\n",
       "    <tr>\n",
       "      <th>1</th>\n",
       "      <td>1</td>\n",
       "      <td>unknown supplier(s)</td>\n",
       "      <td>5390.0</td>\n",
       "    </tr>\n",
       "    <tr>\n",
       "      <th>2</th>\n",
       "      <td>2</td>\n",
       "      <td>United Nations**</td>\n",
       "      <td>4.0</td>\n",
       "    </tr>\n",
       "    <tr>\n",
       "      <th>3</th>\n",
       "      <td>3</td>\n",
       "      <td>Soviet Union</td>\n",
       "      <td>845420.0</td>\n",
       "    </tr>\n",
       "    <tr>\n",
       "      <th>4</th>\n",
       "      <td>4</td>\n",
       "      <td>South Yemen</td>\n",
       "      <td>12.0</td>\n",
       "    </tr>\n",
       "  </tbody>\n",
       "</table>\n",
       "</div>"
      ],
      "text/plain": [
       "   index             Supplier  Number ordered\n",
       "0      0           Yugoslavia          2198.0\n",
       "1      1  unknown supplier(s)          5390.0\n",
       "2      2     United Nations**             4.0\n",
       "3      3         Soviet Union        845420.0\n",
       "4      4          South Yemen            12.0"
      ]
     },
     "execution_count": 64,
     "metadata": {},
     "output_type": "execute_result"
    }
   ],
   "source": [
    "unid_supp_df = pd.read_csv('int_data/unidentified_suppliers.csv', encoding = supp_encoding['encoding'], sep='\\t').reset_index()\n",
    "unid_rec_df = pd.read_csv('int_data/unidentified_recipients.csv', encoding = supp_encoding['encoding'],sep='\\t').reset_index()\n",
    "\n",
    "unid_supp_df.head()"
   ]
  },
  {
   "cell_type": "code",
   "execution_count": 65,
   "id": "417867ce-d947-488f-a4d7-b3c60ce2d1d0",
   "metadata": {},
   "outputs": [
    {
     "data": {
      "text/plain": [
       "[nan,\n",
       " 'unknown recipient(s)',\n",
       " '3',\n",
       " 'ELF (Ethiopia)*',\n",
       " 'unknown supplier(s)',\n",
       " 'NLA (Macedonia)*',\n",
       " 'Anti-Castro rebels (Cuba)*',\n",
       " 'Contras (Nicaragua)*',\n",
       " 'Amal (Lebanon)*',\n",
       " '0.25',\n",
       " 'Soviet Union',\n",
       " 'Indonesia rebels*',\n",
       " 'Viet Minh (France)*',\n",
       " 'SPLA (Sudan)*',\n",
       " 'Armas (Guatemala)*',\n",
       " 'Katanga',\n",
       " 'Darfur rebels (Sudan)*',\n",
       " 'RPF (Rwanda)*',\n",
       " 'Hezbollah (Lebanon)*',\n",
       " 'Libya GNC',\n",
       " 'Hamas (Palestine)*',\n",
       " 'Yugoslavia',\n",
       " 'FMLN (El Salvador)*',\n",
       " 'Viet Cong (South Vietnam)*',\n",
       " 'UIC (Somalia)*',\n",
       " 'FRELIMO (Portugal)*',\n",
       " 'Libya HoR*',\n",
       " 'PKK (Turkiye)*',\n",
       " 'South Vietnam',\n",
       " 'FNLA (Angola)*',\n",
       " 'Pathet Lao (Laos)*',\n",
       " 'Houthi rebels (Yemen)*',\n",
       " 'PAIGC (Portugal)*',\n",
       " 'NTC (Libya)*',\n",
       " 'African Union**',\n",
       " 'Yemen Arab Republic (North Yemen)',\n",
       " 'Ukraine Rebels*',\n",
       " 'European Union**',\n",
       " 'Czechoslovakia',\n",
       " 'MPLA (Portugal)*',\n",
       " 'PLO (Israel)*',\n",
       " 'South Yemen',\n",
       " 'Syria rebels*',\n",
       " 'MTA (Myanmar)*',\n",
       " 'GUNT (Chad)*',\n",
       " 'Mujahedin (Afghanistan)*',\n",
       " 'ANC (South Africa)*',\n",
       " 'United Wa State (Myanmar)*',\n",
       " 'LRA (Uganda)*',\n",
       " 'East Germany (GDR)',\n",
       " 'MNLF (Philippines)*',\n",
       " 'UNITA (Angola)*',\n",
       " 'Biafra',\n",
       " 'OSCE**',\n",
       " 'SLA (Lebanon)*',\n",
       " 'PRC (Israel/Palestine)*',\n",
       " 'ZAPU (Zimbabwe)*',\n",
       " 'Khmer Rouge (Cambodia)*',\n",
       " 'EPLF (Ethiopia)*',\n",
       " 'unknown rebel group*',\n",
       " 'NATO**',\n",
       " 'Regional Security System**',\n",
       " 'Northern Alliance (Afghanistan)*',\n",
       " 'PIJ (Israel/Palestine)*',\n",
       " 'North Yemen',\n",
       " 'LTTE (Sri Lanka)*',\n",
       " 'FAN (Chad)*',\n",
       " 'SNA (Somalia)*',\n",
       " 'United Nations**',\n",
       " 'Haiti rebels*',\n",
       " 'Lebanon Palestinian rebels*',\n",
       " 'Provisional IRA (UK)*',\n",
       " 'LF (Lebanon)*',\n",
       " 'RUF (Sierra Leone)*',\n",
       " 'Kurdistan Regional Government (Iraq)*',\n",
       " 'Southern rebels (Yemen)*']"
      ]
     },
     "execution_count": 65,
     "metadata": {},
     "output_type": "execute_result"
    }
   ],
   "source": [
    "# all countries in our source data not recognized by tableau\n",
    "unique_unidentified_countries = list(set(unid_supp_df['Supplier']).union(set(unid_rec_df['Recipient'])))\n",
    "unique_unidentified_countries"
   ]
  },
  {
   "cell_type": "markdown",
   "id": "788e6e24-aaad-41c6-becd-b15f6ee264ed",
   "metadata": {},
   "source": [
    "### Read in our source data about arms trade\n",
    "We will read in our data, and then compare the countries in the arms trade data to the countries recognized by Tableau."
   ]
  },
  {
   "cell_type": "code",
   "execution_count": 66,
   "id": "e39c3cc3-0dc1-41b2-96f5-01009b94da9c",
   "metadata": {
    "scrolled": true
   },
   "outputs": [
    {
     "ename": "FileNotFoundError",
     "evalue": "[Errno 2] No such file or directory: 'raw_data/trade-register.csv'",
     "output_type": "error",
     "traceback": [
      "\u001b[0;31m---------------------------------------------------------------------------\u001b[0m",
      "\u001b[0;31mFileNotFoundError\u001b[0m                         Traceback (most recent call last)",
      "Cell \u001b[0;32mIn[66], line 1\u001b[0m\n\u001b[0;32m----> 1\u001b[0m \u001b[38;5;28;01mwith\u001b[39;00m \u001b[38;5;28;43mopen\u001b[39;49m\u001b[43m(\u001b[49m\u001b[38;5;124;43m\"\u001b[39;49m\u001b[38;5;124;43mraw_data/trade-register.csv\u001b[39;49m\u001b[38;5;124;43m\"\u001b[39;49m\u001b[43m,\u001b[49m\u001b[43m \u001b[49m\u001b[38;5;124;43m\"\u001b[39;49m\u001b[38;5;124;43mrb\u001b[39;49m\u001b[38;5;124;43m\"\u001b[39;49m\u001b[43m)\u001b[49m \u001b[38;5;28;01mas\u001b[39;00m f:\n\u001b[1;32m      2\u001b[0m     result \u001b[38;5;241m=\u001b[39m chardet\u001b[38;5;241m.\u001b[39mdetect(f\u001b[38;5;241m.\u001b[39mread())\n\u001b[1;32m      3\u001b[0m     \u001b[38;5;28mprint\u001b[39m(result[\u001b[38;5;124m\"\u001b[39m\u001b[38;5;124mencoding\u001b[39m\u001b[38;5;124m\"\u001b[39m])\n",
      "File \u001b[0;32m~/Desktop/personal/MSDS/DATA511_DV/arms-trade-proj/arms_venv/lib/python3.13/site-packages/IPython/core/interactiveshell.py:324\u001b[0m, in \u001b[0;36m_modified_open\u001b[0;34m(file, *args, **kwargs)\u001b[0m\n\u001b[1;32m    317\u001b[0m \u001b[38;5;28;01mif\u001b[39;00m file \u001b[38;5;129;01min\u001b[39;00m {\u001b[38;5;241m0\u001b[39m, \u001b[38;5;241m1\u001b[39m, \u001b[38;5;241m2\u001b[39m}:\n\u001b[1;32m    318\u001b[0m     \u001b[38;5;28;01mraise\u001b[39;00m \u001b[38;5;167;01mValueError\u001b[39;00m(\n\u001b[1;32m    319\u001b[0m         \u001b[38;5;124mf\u001b[39m\u001b[38;5;124m\"\u001b[39m\u001b[38;5;124mIPython won\u001b[39m\u001b[38;5;124m'\u001b[39m\u001b[38;5;124mt let you open fd=\u001b[39m\u001b[38;5;132;01m{\u001b[39;00mfile\u001b[38;5;132;01m}\u001b[39;00m\u001b[38;5;124m by default \u001b[39m\u001b[38;5;124m\"\u001b[39m\n\u001b[1;32m    320\u001b[0m         \u001b[38;5;124m\"\u001b[39m\u001b[38;5;124mas it is likely to crash IPython. If you know what you are doing, \u001b[39m\u001b[38;5;124m\"\u001b[39m\n\u001b[1;32m    321\u001b[0m         \u001b[38;5;124m\"\u001b[39m\u001b[38;5;124myou can use builtins\u001b[39m\u001b[38;5;124m'\u001b[39m\u001b[38;5;124m open.\u001b[39m\u001b[38;5;124m\"\u001b[39m\n\u001b[1;32m    322\u001b[0m     )\n\u001b[0;32m--> 324\u001b[0m \u001b[38;5;28;01mreturn\u001b[39;00m \u001b[43mio_open\u001b[49m\u001b[43m(\u001b[49m\u001b[43mfile\u001b[49m\u001b[43m,\u001b[49m\u001b[43m \u001b[49m\u001b[38;5;241;43m*\u001b[39;49m\u001b[43margs\u001b[49m\u001b[43m,\u001b[49m\u001b[43m \u001b[49m\u001b[38;5;241;43m*\u001b[39;49m\u001b[38;5;241;43m*\u001b[39;49m\u001b[43mkwargs\u001b[49m\u001b[43m)\u001b[49m\n",
      "\u001b[0;31mFileNotFoundError\u001b[0m: [Errno 2] No such file or directory: 'raw_data/trade-register.csv'"
     ]
    }
   ],
   "source": [
    "with open(\"raw_data/trade-register.csv\", \"rb\") as f:\n",
    "    result = chardet.detect(f.read())\n",
    "    print(result[\"encoding\"])"
   ]
  },
  {
   "cell_type": "code",
   "execution_count": null,
   "id": "76cea55b-4735-43c5-9c44-54dd52125452",
   "metadata": {},
   "outputs": [],
   "source": [
    "df = pd.read_csv('raw_data/trade-register.csv', encoding=result[\"encoding\"])\n"
   ]
  },
  {
   "cell_type": "code",
   "execution_count": null,
   "id": "17ab67cd-f6af-40c8-b2e6-480dc12b08cc",
   "metadata": {},
   "outputs": [],
   "source": [
    "unique_values_source_data = pd.unique(df[['Supplier', 'Recipient']].values.ravel())\n",
    "\n",
    "# Convert to list if needed\n",
    "unique_values_source_data = unique_values_source_data.tolist()\n",
    "unique_values_source_data"
   ]
  },
  {
   "cell_type": "code",
   "execution_count": null,
   "id": "faa3f257-153a-44c7-9e88-b47547302d59",
   "metadata": {},
   "outputs": [],
   "source": [
    "tableau_identified_countries = [item for item in unique_values_source_data if item not in unique_unidentified_countries]\n",
    "tableau_identified_countries"
   ]
  },
  {
   "cell_type": "code",
   "execution_count": null,
   "id": "50556ddc-cc20-40b1-bbc4-2c04adbcd8b8",
   "metadata": {},
   "outputs": [],
   "source": [
    "# countries that don't have tableau matches\n",
    "no_tableau_matches = df[df[['Supplier','Recipient']].isin(unique_unidentified_countries).any(axis=1)]\n",
    "no_tableau_matches.sort_values('Year of order', ascending=False)"
   ]
  },
  {
   "cell_type": "markdown",
   "id": "6dd8fe9f-1a8c-41ad-b582-a3b346d4917e",
   "metadata": {},
   "source": [
    "Because there have been countries created/changed since roughly the early 2000s we won't be looking at data before that time range. Here we will filter our data to orders placed after 1995 that have either the supplier or recipient not recognized by Tableau. We will then compare this to the list of countries previously created that are not recognized by Tableau to get the final list of countries in our data set that are in our range of time and not recognized.  "
   ]
  },
  {
   "cell_type": "code",
   "execution_count": null,
   "id": "0b1cd435-2aab-4365-a82c-81df754db7c4",
   "metadata": {},
   "outputs": [],
   "source": [
    "# Filter rows where 'Year of order' > 1995\n",
    "filtered_df = no_tableau_matches[no_tableau_matches['Year of order'] > 2000]\n",
    "\n",
    "# Get distinct values from both 'Recipient' and 'Supplier' columns\n",
    "distinct_values = pd.concat([filtered_df['Recipient'], filtered_df['Supplier']]).dropna().unique()\n",
    "\n",
    "# Convert to a list\n",
    "distinct_list = list(distinct_values)\n",
    "\n",
    "print(distinct_list)"
   ]
  },
  {
   "cell_type": "code",
   "execution_count": null,
   "id": "cc3c7523-56ea-400b-907b-1a3d831a7a94",
   "metadata": {},
   "outputs": [],
   "source": [
    "set(unique_unidentified_countries).intersection(distinct_list)"
   ]
  },
  {
   "cell_type": "markdown",
   "id": "c6ab6a1e-72da-4135-9cd2-8972dfa5e4cb",
   "metadata": {},
   "source": [
    "## Categorize weapon descriptions\n",
    "Make a high level category and a sub-category for each weapon description "
   ]
  },
  {
   "cell_type": "code",
   "execution_count": null,
   "id": "8b9df63c-70d2-488a-8801-a10e56a0a2da",
   "metadata": {},
   "outputs": [],
   "source": [
    "category_mapping = {\n",
    "    'Aircraft': [\n",
    "        'fighter aircraft', 'bomber aircraft', 'transport aircraft', 'reconnaissance aircraft', \n",
    "        'trainer aircraft', 'AEW&C aircraft', 'SIGINT aircraft', 'trainer/combat aircraft', \n",
    "        'AGS aircraft', 'FGA aircraft', 'FGA/EW aircraft', 'airship', 'target tow aircraft', 'light aircraft', 'ground attack aircraft',\n",
    "        'ASW aircraft', 'AEW aircraft', 'AEW/AGS aircraft', 'reconnaissance/SIGINT aircraft', 'transport ac/helicopter', 'transport/trainer aircraft', 'airship', \n",
    "        'light transport aircraft', 'heavy transport aircraft', 'tanker/transport aircraft', 'trainer/light aircraft', 'light/trainer aircraft'\n",
    "    ],\n",
    "    'Helicopters': [\n",
    "        'combat helicopter', 'transport helicopter', 'ASW helicopter', 'light helicopter', \n",
    "        'AEW helicopter', 'anti-ship helicopter', 'SIGINT helicopter', 'helicopter', 'ASW Helicopter'\n",
    "    ],\n",
    "    'Unmanned Vehicles': [\n",
    "        'UAV', 'armed UAV', 'reconnaissance AV', 'maritime patrol UAV', 'light aircraft/UAV', 'loitering munition' \n",
    "    ],\n",
    "    'Naval Vessels': [\n",
    "        'frigate', 'destroyer', 'corvette', 'patrol craft', 'submarine', 'cargo ship', 'tanker',\n",
    "        'support ship', 'training ship', 'MCM ship', 'replenishment ship', 'minehunter', 'icebreaker', \n",
    "        'OPV', 'OPV/training ship', 'OPV/support ship', 'gunboat', 'landing ship', 'salvage ship', \n",
    "        'survey ship', 'cruiser', 'aircraft carrier', 'minelayer', 'replenishment tanker', \n",
    "        'corvette/minesweeper', 'OPV/transport ship', 'support/landing ship', 'landing/patrol craft',\n",
    "        'transport ship', 'FAC (Fast Attack Craft)', 'minesweeper', 'landing craft', 'tug', 'nuclear submarine', 'OPV/tug',\n",
    "        'frigate/landing ship', 'SSB (Ballistic Missile Submarine)', 'SIGINT ship', 'patrol craft/transport craft', 'transport craft',\n",
    "        'support craft', 'cargo craft', 'midget submarine', 'icebreaker/OPV', 'FAC', 'SSB'\n",
    "    ],\n",
    "    'Ground Vehicles/Artillery': [\n",
    "        'tank', 'light tank', 'armoured car', 'APC', 'IFV', 'AFSV', 'APV', 'AMV', 'ARV', 'AEV/ARV', \n",
    "        'armoured bridgelayer', 'training tank', 'tank turret', 'self-propelled gun chassis', 'tank chassis',\n",
    "        'APC/APV', 'APC/IFV', 'APC/CP', 'IFV/AFSV', 'IFV/APC turret', 'APC turret', 'IFV turret', 'self-propelled AD system',\n",
    "        'self-propelled gun', 'self-propelled MRL', 'towed gun', 'self-propelled AA gun', 'coastal defence system', 'AA gun (Anti-Aircraft Gun)',\n",
    "        'towed MRL', 'ALV (Armored Logistics Vehicle)', 'naval gun', 'tank destroyer', 'mortar', 'self-propelled mortar', 'anti-aircraft gun',\n",
    "        'SPG turret', 'ASW mortar', 'AEV (Armored Engineering Vehicle)', 'helicopter turret', 'anti-tank AV turret', 'self-propelled AA gun turret',\n",
    "        'apc (Armored Personnel Carrier)', 'AA gun/SAM system', 'AA gun system', 'coastal defence gun', 'mortar turret', 'AA gun', 'ALV', 'AEV', 'apc'\n",
    "    ],\n",
    "    'Missiles/Rockets/Bombs': [\n",
    "        'SAM', 'portable SAM', 'mobile SAM system', 'naval SAM system', 'SAM system', 'SAM/ABM', 'ABM missile',\n",
    "        'SSM', 'SSM launcher', 'SSM TEL', 'anti-ship missile', 'anti-radar missile', 'anti-tank missile', \n",
    "        'guided bomb', 'guided rocket', 'guided rocket/SSM', 'guided rocket/ASM', 'SSM/ASM', 'anti-ship missile/SSM',\n",
    "        'anti-ship/land-attack missile', 'land-attack missile', 'anti-tank missile/ASM', 'guided glide bomb',\n",
    "        'anti-ship/ASW torpedo', 'anti-ship torpedo', 'SSM/anti-ship missile', 'ASW torpedo', 'ASW MRL', \n",
    "        'anti-ship missile/ASM', 'BVRAAM', 'BVRAAM/SAM', 'SRAAM', 'ASM', 'ABM/SAM system', 'naval MRL', 'ASM (Anti-Ship Missile)',\n",
    "        'guided shell', 'ASW missile', 'anti-ship/anti-radar missile', 'naval mine/torpedo', 'ABM system', 'ASW rocket launcher',\n",
    "        'anti-ship missile/ASM/SAM', 'SLBM (Submarine-Launched Ballistic Missile)', 'ASM', 'SLBM', 'anti-radar missile/ASM'\n",
    "    ],\n",
    "    'Radar/Detection Systems': [\n",
    "        'air search radar', 'AGS radar', 'sea search radar', 'multi-function radar', 'air search system', \n",
    "        'fire control radar', 'air/sea search radar', 'artillery locating radar', 'ground surv radar', \n",
    "        'ground/sea search radar', 'AEW radar', 'MP aircraft radar', 'aircraft EO system', \n",
    "        'aircraft EO/radar system', 'air/ground surv radar', 'SAM system radar', 'multi-role radar', 'radar',\n",
    "        'combat aircraft radar', 'combat heli radar', 'SONAR', 'submarine sonar', 'ASW sonar', 'SONAR system',\n",
    "        'aircraft recce system', 'height-finding radar', 'ASW sonar', 'SONAR', 'recce satellite', 'EO search/fire control', 'EO system',\n",
    "        'AGS/MP aircraft radar', 'Naval EO system', 'AGS/SIGINT system', 'surveillance satellite'\n",
    "    ],\n",
    "    'Specialized Equipment': [\n",
    "        'aircraft engine', 'turbofan', 'turbojet', 'gas turbine', 'vehicle engine', 'AIP engine', \n",
    "        'air refuel system', 'maritime patrol aircraft', 'SIGINT system', \n",
    "        'SIGINT aircraft', 'AALS', 'VEHICLE ENGINE', 'turbojet', 'nuclear reactor', 'ship engine', 'turboprop'\n",
    "    ],\n",
    "    'Other': [\n",
    "        'SSB' , 'training equipment'\n",
    "    ]\n",
    "}\n",
    "\n",
    "# Expanded sub-category mappings\n",
    "sub_category_mapping = {\n",
    "    # Aircraft Sub-categories\n",
    "    'Aircraft': {\n",
    "        'Fighter/Combat Aircraft': ['fighter aircraft', 'trainer/combat aircraft', 'FGA aircraft', 'FGA/EW aircraft', 'ground attack aircraft', 'ASW aircraft'],\n",
    "        'Bomber/Heavy Aircraft': ['bomber aircraft', 'heavy transport aircraft'],\n",
    "        'Reconnaissance/Surveillance Aircraft': ['reconnaissance aircraft', 'AEW&C aircraft', 'SIGINT aircraft', 'AGS aircraft', 'light aircraft', 'AEW aircraft',\n",
    "                                                'AEW/AGS aircraft', 'reconnaissance/SIGINT aircraft', 'airship'],\n",
    "        'Trainer Aircraft': ['trainer aircraft', 'trainer/light aircraft', 'light/trainer aircraft', 'target tow aircraft'],\n",
    "        'Transport Aircraft': ['transport aircraft', 'light transport aircraft', 'tanker/transport aircraft', 'transport ac/helicopter', 'transport/trainer aircraft']\n",
    "    },\n",
    "    # Helicopter Sub-categories\n",
    "    'Helicopters': {\n",
    "        'Combat Helicopters': ['combat helicopter', 'ASW helicopter', 'anti-ship helicopter', 'SIGINT helicopter'],\n",
    "        'Transport/Utility Helicopters': ['transport helicopter', 'light helicopter'],\n",
    "        'Specialized Helicopters': ['AEW helicopter', 'ASW Helicopter', 'helicopter']\n",
    "    },\n",
    "    # Unmanned Vehicles Sub-categories\n",
    "    'Unmanned Vehicles': {\n",
    "        'UAV/Drone': ['UAV', 'armed UAV', 'light aircraft/UAV', 'loitering munition'],\n",
    "        'Reconnaissance/Surveillance UAV': ['reconnaissance AV', 'maritime patrol UAV']\n",
    "    },\n",
    "    'Naval Vessels' :{\n",
    "        'Combat Vessel': ['frigate', 'destroyer', 'corvette', 'submarine', 'gunboat', 'cruiser', 'aircraft carrier', \n",
    "                         'corvette/minesweeper', 'FAC (Fast Attack Craft)', 'minesweeper', 'nuclear submarine', 'SSB (Ballistic Missile Submarine)',\n",
    "                         'midget submarine', 'FAC', 'SSB'],\n",
    "        'Support Vessel' : [ 'patrol craft', 'cargo ship', 'tanker',\n",
    "        'support ship', 'training ship', 'MCM ship', 'replenishment ship', 'minehunter', 'icebreaker', \n",
    "        'OPV', 'OPV/training ship', 'OPV/support ship', 'landing ship', 'salvage ship', \n",
    "        'survey ship', 'minelayer', 'replenishment tanker', 'OPV/transport ship', 'support/landing ship', \n",
    "        'landing/patrol craft', 'transport ship', 'landing craft', 'tug', 'OPV/tug', 'frigate/landing ship', 'SIGINT ship', 'patrol craft/transport craft',\n",
    "        'transport craft', 'support craft', 'cargo craft', 'icebreaker/OPV']\n",
    "    },\n",
    "    'Ground Vehicles/Artillery' : {\n",
    "    'Main Battle Tanks': ['tank', 'light tank', 'training tank', 'tank chassis', 'tank destroyer'],\n",
    "    'Armored Personnel Carriers (APC)': ['APC', 'APC/APV', 'APC/IFV', 'APC/CP', 'apc (Armored Personnel Carrier)', 'apc'],\n",
    "    'Infantry Fighting Vehicles (IFV)': ['IFV', 'IFV/AFSV', 'IFV/APC turret', 'IFV turret'],\n",
    "    'Armored Reconnaissance Vehicles (ARV)': ['ARV', 'AEV/ARV'],\n",
    "    'Armored Fighting Support Vehicles (AFSV)': ['AFSV', 'AMV', 'ALV (Armored Logistics Vehicle)', 'ALV'],\n",
    "    'Light Armored Vehicles (APV)': ['APV', 'armoured car'],\n",
    "    'Self-Propelled Artillery': ['self-propelled gun chassis', 'self-propelled AD system', 'self-propelled gun', 'self-propelled MRL', 'self-propelled AA gun',\n",
    "                                'AA gun (Anti-Aircraft Gun)', 'self-propelled mortar', 'SPG turret', 'self-propelled AA gun turret'],\n",
    "    'Engineering Vehicles': ['armoured bridgelayer', 'AEV (Armored Engineering Vehicle)', 'AEV'],\n",
    "    'Tank Components': ['tank turret'],\n",
    "    'Artillery' : ['towed gun', 'mortar', 'coastal defence system', 'towed MRL', 'naval gun', 'anti-aircraft gun', 'ASW mortar', 'helicopter turret', 'anti-tank AV turret',\n",
    "                  'APC turret', 'AA gun/SAM system', 'AA gun system', 'coastal defence gun', 'mortar turret', 'AA gun']\n",
    "    },\n",
    "    'Missiles/Rockets/Bombs' : {\n",
    "    'Surface-to-Air Missiles (SAM)': [\n",
    "        'SAM', 'portable SAM', 'mobile SAM system', 'naval SAM system', 'SAM system', 'SAM/ABM', 'ABM missile', 'ABM/SAM system', 'ASM (Anti-Ship Missile)', 'ABM system'\n",
    "    ],\n",
    "    'Surface-to-Surface Missiles (SSM)': [\n",
    "        'SSM', 'SSM launcher', 'SSM TEL', 'SSM/ASM', 'SSM/anti-ship missile', 'anti-ship missile/SSM', 'land-attack missile'\n",
    "    ],\n",
    "    'Air-to-Air Missiles (AAM)': [\n",
    "        'BVRAAM', 'SRAAM', 'BVRAAM/SAM'\n",
    "    ],\n",
    "    'Anti-Ship Missiles (ASM)': [\n",
    "        'anti-ship missile', 'anti-ship missile/ASM', 'anti-ship/ASW torpedo', 'anti-ship torpedo', 'SSM/anti-ship missile', 'anti-ship/anti-radar missile',\n",
    "        'naval mine/torpedo', 'anti-ship missile/ASM/SAM', 'ASM'\n",
    "    ],\n",
    "    'Anti-Radar Missiles': [\n",
    "        'anti-radar missile', 'anti-radar missile/ASM'\n",
    "    ],\n",
    "    'Anti-Tank Missiles': [\n",
    "        'anti-tank missile', 'anti-tank missile/ASM'\n",
    "    ],\n",
    "    'Guided Bombs and Rockets': [\n",
    "        'guided bomb', 'guided rocket', 'guided glide bomb', 'guided rocket/SSM', 'guided rocket/ASM', 'guided shell'\n",
    "    ],\n",
    "    'Land-Attack Missiles': [\n",
    "        'anti-ship/land-attack missile', 'land-attack missile'\n",
    "    ],\n",
    "    'Anti-Submarine Warfare (ASW) Weapons': [\n",
    "        'ASW torpedo', 'ASW MRL', 'anti-ship/ASW torpedo', 'ASW missile', 'ASW rocket launcher'\n",
    "    ],\n",
    "    'Naval Rocket Launchers': [\n",
    "        'naval MRL'\n",
    "    ],\n",
    "    'Ballistic Missiles' : ['SLBM (Submarine-Launched Ballistic Missile)', 'SLBM']    \n",
    "    \n",
    "    },\n",
    "    'Radar/Detection Systems' : {\n",
    "    'Air Search Radar': [\n",
    "        'air search radar', 'AEW radar', 'air search system', 'air/sea search radar', 'air/ground surv radar'\n",
    "    ],\n",
    "    'Sea Search Detection Systems': [\n",
    "        'sea search radar', 'ground/sea search radar', 'ASW sonar', 'SONAR', 'submarine sonar', 'AGS/MP aircraft radar'\n",
    "    ],\n",
    "    'Ground Surveillance Radar': [\n",
    "        'ground surv radar', 'ground/sea search radar', 'air/ground surv radar', 'AGS/SIGINT system'\n",
    "    ],\n",
    "    'Multi-function Radar': [\n",
    "        'multi-function radar', 'multi-role radar'\n",
    "    ],\n",
    "    'Fire Control Radar': [\n",
    "        'fire control radar', 'SAM system radar', 'AGS radar', 'EO system', 'EO search/fire control', 'Naval EO system'\n",
    "    ],\n",
    "    'Artillery/Weapon Locating Radar': [\n",
    "        'artillery locating radar'\n",
    "    ],\n",
    "    'Aircraft-Mounted Systems': [\n",
    "        'MP aircraft radar', 'aircraft EO system', 'aircraft EO/radar system', 'combat aircraft radar', 'combat heli radar',\n",
    "        'aircraft recce system'\n",
    "    ],\n",
    "    'Other Detection Systems': ['height-finding radar', 'recce satellite', 'surveillance satellite'\n",
    "                               ]\n",
    "    },\n",
    "    'Specialized Equipment' : {\n",
    "    'Aircraft Engines': [\n",
    "        'aircraft engine', 'turbofan', 'turbojet', 'turboprop'\n",
    "    ],\n",
    "    'Vehicle Engines': [\n",
    "        'vehicle engine', 'VEHICLE ENGINE', 'gas turbine', 'AIP engine', 'nuclear reactor', 'ship engine'\n",
    "    ],\n",
    "    'Refueling and Logistics Systems': [\n",
    "        'air refuel system', 'AALS'\n",
    "    ],\n",
    "    'Intelligence and Surveillance Systems': [\n",
    "        'SIGINT system', 'SIGINT aircraft', 'maritime patrol aircraft'\n",
    "    ]\n",
    "}\n",
    "    # Add more sub-categories as needed in similar structure...\n",
    "}\n",
    "\n",
    "# The mapping functions will work the same, now with the expanded mappings.\n",
    "\n",
    "def map_category(description):\n",
    "    for category, items in category_mapping.items():\n",
    "        if description in items:\n",
    "            return category\n",
    "    return 'Unknown'\n",
    "\n",
    "def map_sub_category(description):\n",
    "    for category, sub_categories in sub_category_mapping.items():\n",
    "        for sub_category, items in sub_categories.items():\n",
    "            if description in items:\n",
    "                return sub_category\n",
    "    return 'Unknown'\n",
    "\n",
    "# Applying the mapping functions\n",
    "df['Category'] = df['Weapon description'].apply(map_category)\n",
    "df['Sub-Category'] = df['Weapon description'].apply(map_sub_category)\n",
    "\n"
   ]
  },
  {
   "cell_type": "code",
   "execution_count": null,
   "id": "f88c5a3b-675c-4d72-8997-d900df380702",
   "metadata": {},
   "outputs": [],
   "source": [
    "# Creating a DataFrame with three columns: 'Description', 'Category', and 'Sub-category' for exporting to csv for sharing \n",
    "csv_mapping_data = {'Category': [], 'Sub-category': [], 'Description': []}\n",
    "\n",
    "for category, subcategories in sub_category_mapping.items():\n",
    "    for sub_category, descriptions in subcategories.items():\n",
    "        for description in descriptions:\n",
    "            csv_mapping_data['Category'].append(category)\n",
    "            csv_mapping_data['Sub-category'].append(sub_category)\n",
    "            csv_mapping_data['Description'].append(description)\n",
    "\n",
    "# Generating the DataFrame\n",
    "df_three_columns = pd.DataFrame(csv_mapping_data)\n",
    "df_three_columns.head()"
   ]
  },
  {
   "cell_type": "code",
   "execution_count": null,
   "id": "15c730e3-226a-4003-8bab-1a350b9fe733",
   "metadata": {},
   "outputs": [],
   "source": [
    "# Save this mapping to a csv\n",
    "df_three_columns.to_csv('final_data/description_mapping.csv')"
   ]
  },
  {
   "cell_type": "code",
   "execution_count": null,
   "id": "a43f9346-918c-4325-8ad9-8582d5988668",
   "metadata": {},
   "outputs": [],
   "source": [
    "# drop nonsense columns\n",
    "df.drop([' .1', ' .2', ' '], axis=1, inplace=True)\n",
    "df.head()"
   ]
  },
  {
   "cell_type": "markdown",
   "id": "9f462a65-66bc-49a7-9384-f08e00c595aa",
   "metadata": {},
   "source": [
    "# Add WDI indicators\n",
    "We will add world bank country indicators do our database related to military expenditures and also bring in the region and income group of each country.\n",
    "\n",
    "We'll start by reading in the indicator data (WDICSV) and the country info (WDICountry).\n",
    "\n",
    "From the WDICountry table we'll keep the table name, region, and income group for joining to our data later "
   ]
  },
  {
   "cell_type": "code",
   "execution_count": null,
   "id": "64e9035f-5c92-4dfc-bd38-05f25ba74d6e",
   "metadata": {},
   "outputs": [],
   "source": [
    "wdi_df = pd.read_csv('raw_data/WDICSV.csv') \n",
    "country_df = pd.read_csv('raw_data/WDICountry.csv')\n",
    "country_df.head()"
   ]
  },
  {
   "cell_type": "code",
   "execution_count": null,
   "id": "59ab04a4-06e3-4ab4-8be6-c479c94dc452",
   "metadata": {},
   "outputs": [],
   "source": [
    "country_region_mapping = country_df[['Table Name', 'Region', 'Income Group', '2-alpha code']]\n",
    "country_region_mapping = country_region_mapping.rename(columns={'2-alpha code': 'two_alpha_code'})\n",
    "\n",
    "country_region_mapping"
   ]
  },
  {
   "cell_type": "code",
   "execution_count": null,
   "id": "68db4df5-b8fd-40fc-8f5d-ddc073f7d547",
   "metadata": {},
   "outputs": [],
   "source": [
    "country_region_mapping[country_region_mapping['two_alpha_code']=='TR']"
   ]
  },
  {
   "cell_type": "code",
   "execution_count": null,
   "id": "adf78643-febf-4fbc-b33b-1fbe9f746e5b",
   "metadata": {},
   "outputs": [],
   "source": [
    "wdi_df = wdi_df.merge(country_df[['Table Name','Region','Income Group', 'Long Name']], how='left', left_on='Country Name', right_on = 'Table Name')\n",
    "wdi_df = wdi_df.drop('Table Name', axis=1)"
   ]
  },
  {
   "cell_type": "code",
   "execution_count": null,
   "id": "9d397107-8b9e-449b-a813-6c289733525e",
   "metadata": {},
   "outputs": [],
   "source": [
    "wdi_df_long = pd.melt(wdi_df, id_vars=['Country Name', 'Country Code', 'Indicator Name', 'Indicator Code', 'Region', 'Income Group'],\n",
    "                      var_name = 'Year',\n",
    "                      value_name = 'indicator_value')\n",
    "wdi_df_long.head()"
   ]
  },
  {
   "cell_type": "code",
   "execution_count": null,
   "id": "f60dbc1a-630a-4515-baf8-5557e53cfc93",
   "metadata": {},
   "outputs": [],
   "source": [
    "indicators = [\n",
    "    \"Military expenditure (% of GDP)\",\n",
    "    \"Military expenditure (% of general government expenditure)\",\n",
    "    \"Military expenditure (current LCU)\",\n",
    "    \"Armed Forces Personnel (% of total labor force)\",\n",
    "    \"Armed Forces personnel, total\",\n",
    "    \"Arms exports (SIPRI trend indicator values)\",\n",
    "    \"Arms imports (SIPRI trend indicator values)\",\n",
    "    \"Military expenditure (Current USD)\",\n",
    "    \"Armed forces personnel (% of total labor force)\",\n",
    "    \"Armed forces personnel, total\"\n",
    "\n",
    "]"
   ]
  },
  {
   "cell_type": "code",
   "execution_count": null,
   "id": "a8bab9be-7208-485a-93e3-5fb0c3c797ea",
   "metadata": {},
   "outputs": [],
   "source": [
    "def pivot_and_save_indicators(df, indicators, csv_name=None):\n",
    "    # Filter the DataFrame to include only the specified indicators\n",
    "    filtered_df = df[df['Indicator Name'].isin(indicators)]\n",
    "    \n",
    "    # Pivot the DataFrame\n",
    "    pivoted_df = filtered_df.pivot(\n",
    "        index=[\"Country Name\", \"Country Code\", \"Year\", \"Region\", \"Income Group\"],\n",
    "        columns=\"Indicator Name\",\n",
    "        values=\"indicator_value\"\n",
    "    ).reset_index()\n",
    "    \n",
    "    if csv_name != None:\n",
    "    # Save the pivoted DataFrame to a CSV file\n",
    "        pivoted_df.to_csv(csv_name, index=False)\n",
    "    \n",
    "    # Return the pivoted DataFrame\n",
    "    return pivoted_df"
   ]
  },
  {
   "cell_type": "code",
   "execution_count": null,
   "id": "5c60adeb-2b39-4ed7-80c8-199e4bc017ed",
   "metadata": {},
   "outputs": [],
   "source": [
    "arms_indicators = pivot_and_save_indicators(wdi_df_long, indicators)"
   ]
  },
  {
   "cell_type": "code",
   "execution_count": null,
   "id": "9ca36646-3c45-41b1-8d51-8fae68622b8e",
   "metadata": {},
   "outputs": [],
   "source": [
    "non_region_df = arms_indicators[arms_indicators['Region'].notna()]\n",
    "non_region_df.info()"
   ]
  },
  {
   "cell_type": "code",
   "execution_count": null,
   "id": "88ce5dd6-bd07-46f5-9eb7-b47341093883",
   "metadata": {},
   "outputs": [],
   "source": [
    "# Convert 'Column1' to numeric with errors coerced to NaN\n",
    "non_region_df['Year'] = pd.to_numeric(non_region_df['Year'], errors='coerce')\n",
    "\n",
    "# Drop rows where 'Column1' is NaN\n",
    "non_region_df = non_region_df.dropna(subset=['Year'])\n",
    "\n",
    "# Convert the column to integer type\n",
    "non_region_df['Year'] = non_region_df['Year'].astype(int)"
   ]
  },
  {
   "cell_type": "code",
   "execution_count": null,
   "id": "1eb12ad0-7d74-46c0-b83b-749675ee2de3",
   "metadata": {},
   "outputs": [],
   "source": [
    "non_region_df = non_region_df[non_region_df['Year']>=2000]"
   ]
  },
  {
   "cell_type": "code",
   "execution_count": null,
   "id": "dda3c67c-5548-4422-a941-2cb1802c03b3",
   "metadata": {},
   "outputs": [],
   "source": []
  },
  {
   "cell_type": "code",
   "execution_count": null,
   "id": "9fbae25b-6f4d-47bd-96bb-1f279053a625",
   "metadata": {},
   "outputs": [],
   "source": [
    "# Filter rows where 'Region' is not NaN\n",
    "filtered_df = non_region_df[non_region_df['Region'].notna()]\n",
    "\n",
    "# Get unique values from the 'Country Name' column\n",
    "unique_countries_wdi = filtered_df['Country Name'].unique()\n",
    "\n",
    "# Convert to a list (optional)\n",
    "unique_countries_list = unique_countries_wdi.tolist()\n",
    "\n",
    "print(unique_countries_list)"
   ]
  },
  {
   "cell_type": "code",
   "execution_count": null,
   "id": "8a5fca40-a895-4bb1-b307-a1c8c224e0ed",
   "metadata": {},
   "outputs": [],
   "source": [
    "tableau_countries_not_in_indicators_data = [item for item in tableau_identified_countries if item not in unique_countries_list]\n",
    "tableau_countries_not_in_indicators_data"
   ]
  },
  {
   "cell_type": "code",
   "execution_count": null,
   "id": "b307ec2c-82df-40e9-9b4d-8ee578f2e3bb",
   "metadata": {},
   "outputs": [],
   "source": [
    "mapping_wbi_to_sipri = {\n",
    "    'Russian Federation': 'Russia',\n",
    " 'Slovak Republic': 'Slovakia',\n",
    " 'Bosnia and Herzegovina': 'Bosnia-Herzegovina',\n",
    " 'Turkey': 'Turkiye',\n",
    " 'Türkiye':'Turkiye',\n",
    " 'Egypt, Arab Rep.': 'Egypt',\n",
    " 'United Arab Emirates': 'UAE',\n",
    " 'Syrian Arab Republic': 'Syria',\n",
    " 'Korea, Rep.': 'South Korea',\n",
    " 'Bahamas, The': 'Bahamas',\n",
    " 'Macao SAR, China': 'Taiwan',\n",
    " 'Côte d’Ivoire': \"Cote d'Ivoire\",\n",
    " 'Venezuela, RB': 'Venezuela',\n",
    " 'Iran, Islamic Rep.': 'Iran',\n",
    " 'Brunei Darussalam': 'Brunei',\n",
    " 'Kyrgyz Republic': 'Kyrgyzstan',\n",
    " 'Congo, Rep.': 'Congo',\n",
    " 'Congo, Dem. Rep.': 'DR Congo',\n",
    " \"Korea, Dem. People's Rep.\": 'North Korea',\n",
    " 'Eswatini': 'eSwatini',\n",
    " 'Gambia, The': 'Gambia',\n",
    " 'Lao PDR': 'Laos',\n",
    " 'Micronesia, Fed. Sts.': 'Micronesia',\n",
    " 'Cyprus': 'Northern Cyprus',\n",
    " 'West Bank and Gaza': 'Palestine',\n",
    " 'St. Kitts and Nevis': 'Saint Kitts and Nevis',\n",
    " 'St. Vincent and the Grenadines': 'Saint Vincent',\n",
    " 'Yemen, Rep.': 'Yemen'}\n"
   ]
  },
  {
   "cell_type": "code",
   "execution_count": null,
   "id": "9716aecb-5838-4258-9dd4-480056039b69",
   "metadata": {},
   "outputs": [],
   "source": [
    "non_region_df['sipri_country_mapping'] = non_region_df['Country Name'].apply(\n",
    "    lambda x: x if x not in mapping_wbi_to_sipri else mapping_wbi_to_sipri[x]\n",
    ")"
   ]
  },
  {
   "cell_type": "code",
   "execution_count": null,
   "id": "e00b102e-041d-4346-8631-0304261a4a50",
   "metadata": {},
   "outputs": [],
   "source": [
    "country_region_mapping['sipri_country_mapping'] = country_region_mapping['Table Name'].apply(\n",
    "    lambda x: x if x not in mapping_wbi_to_sipri else mapping_wbi_to_sipri[x]\n",
    ")\n",
    "country_region_mapping.drop(columns=['Table Name'], inplace=True)\n",
    "country_region_mapping"
   ]
  },
  {
   "cell_type": "code",
   "execution_count": null,
   "id": "d7cadefe-4ce2-4673-933e-2f15301e18e8",
   "metadata": {},
   "outputs": [],
   "source": [
    "non_region_df.head()"
   ]
  },
  {
   "cell_type": "code",
   "execution_count": null,
   "id": "cd25f29a-f0df-4e38-83c9-57f6deaa8c48",
   "metadata": {},
   "outputs": [],
   "source": []
  },
  {
   "cell_type": "code",
   "execution_count": null,
   "id": "80fccdcc-c3b6-4d26-a47b-3cfdb8fb866e",
   "metadata": {},
   "outputs": [],
   "source": [
    "#non_region_df.to_csv('final_data/arms_indicator_data.csv')"
   ]
  },
  {
   "cell_type": "code",
   "execution_count": null,
   "id": "8b11115c-ad37-4616-bf4e-3452c13e6512",
   "metadata": {},
   "outputs": [],
   "source": [
    "df.head()"
   ]
  },
  {
   "cell_type": "code",
   "execution_count": null,
   "id": "337f450d-639c-4e18-9143-1124a37ab3c9",
   "metadata": {},
   "outputs": [],
   "source": [
    "df = df.drop(columns=['.1', '.2'], errors='ignore')\n",
    "\n",
    "df['Year of order'] = df['Year of order'].astype(int)"
   ]
  },
  {
   "cell_type": "code",
   "execution_count": null,
   "id": "6152f8bb-8b8f-4b03-9bbe-223fb88d6473",
   "metadata": {},
   "outputs": [],
   "source": [
    "df.info()"
   ]
  },
  {
   "cell_type": "code",
   "execution_count": null,
   "id": "c4c4b294-ea9b-49db-9d2c-8efd77ffad77",
   "metadata": {},
   "outputs": [],
   "source": [
    "df.to_csv('final_data/cleaned_transfer_data.csv')"
   ]
  },
  {
   "cell_type": "markdown",
   "id": "cca989a7-1064-463e-96b7-21ff0b77d012",
   "metadata": {},
   "source": [
    "## Restructure dataframe\n",
    "We need to have a primary country name so we restructure the dataframe so that there are two rows per transaction one where the supplier is the primary country and one where the recipient is the primary country. "
   ]
  },
  {
   "cell_type": "code",
   "execution_count": null,
   "id": "435abfb3-29e2-4826-99fc-75960c8ef15d",
   "metadata": {},
   "outputs": [],
   "source": [
    "# Melt the DataFrame to create rows for Supplier and Recipient\n",
    "df[\"transaction_id\"] = range(1, len(df) + 1)\n",
    "\n",
    "supplier_df = df.copy()\n",
    "supplier_df[\"Country\"] = supplier_df[\"Supplier\"]\n",
    "supplier_df[\"Country Role\"] = \"Supplier\"\n",
    "#supplier_df.drop(columns=[\"Supplier\", \"Recipient\"], inplace=True)\n",
    "\n",
    "recipient_df = df.copy()\n",
    "recipient_df[\"Country\"] = recipient_df[\"Recipient\"]\n",
    "recipient_df[\"Country Role\"] = \"Recipient\"\n",
    "#recipient_df.drop(columns=[\"Supplier\", \"Recipient\"], inplace=True)\n",
    "\n",
    "\n",
    "\n"
   ]
  },
  {
   "cell_type": "code",
   "execution_count": null,
   "id": "7495461f-8cd0-435a-a192-696e27ba4b51",
   "metadata": {},
   "outputs": [],
   "source": [
    "# Combine the two DataFrames\n",
    "transformed_df = pd.concat([supplier_df, recipient_df], ignore_index=True)\n",
    "\n",
    "# Reorder columns to have \"Country\" and \"Country Role\" as the first two columns\n",
    "transformed_df[\"SIPRI TIV for total order - Pos_Neg\"] = np.where(\n",
    "    transformed_df[\"Country Role\"] == \"Recipient\",\n",
    "    transformed_df[\"SIPRI TIV for total order\"] * -1.0,\n",
    "    transformed_df[\"SIPRI TIV for total order\"]\n",
    ")\n",
    "\n",
    "drop_cols = ['Number delivered','Year(s) of delivery','SIPRI TIV of delivered weapons']\n",
    "transformed_df = transformed_df.drop(columns=drop_cols)\n",
    "transformed_df[\"Partner Country\"] = np.where(\n",
    "    transformed_df[\"Recipient\"] != transformed_df[\"Country\"],  # Condition\n",
    "    transformed_df[\"Recipient\"],                  # Value if True\n",
    "    transformed_df[\"Supplier\"]                   # Value if False\n",
    ")\n",
    "transformed_df = transformed_df.drop(columns=[\"Supplier\", \"Recipient\"])\n",
    "cols = [\"transaction_id\", \"Country\", \"Country Role\", \"Partner Country\"] + [col for col in transformed_df.columns if col not in [\"transaction_id\", \"Country\", \"Country Role\", \"Partner Country\"]]\n",
    "\n",
    "transformed_df = transformed_df[cols]\n",
    "\n",
    "transformed_df.sort_values('transaction_id').head()\n"
   ]
  },
  {
   "cell_type": "code",
   "execution_count": null,
   "id": "641d1329-af23-4261-a6f7-a2eb345ce777",
   "metadata": {},
   "outputs": [],
   "source": []
  },
  {
   "cell_type": "code",
   "execution_count": null,
   "id": "6a7d696a-a47a-44f3-a4f5-f908b107d4cc",
   "metadata": {},
   "outputs": [],
   "source": [
    "sipri_wdi_merge = df.merge(non_region_df, how='left', left_on=['Recipient','Year of order'], right_on=['sipri_country_mapping','Year'])"
   ]
  },
  {
   "cell_type": "code",
   "execution_count": null,
   "id": "ab9c5ed2-1b40-4524-b80c-293b5b99c9ff",
   "metadata": {},
   "outputs": [],
   "source": [
    "non_region_df['Year'] = non_region_df['Year'].astype(int)\n",
    "\n",
    "non_region_df.info()"
   ]
  },
  {
   "cell_type": "code",
   "execution_count": null,
   "id": "da19e26d-66bd-4cb2-8c28-5f9067e90406",
   "metadata": {},
   "outputs": [],
   "source": [
    "melt_wdi_sipri_merge = transformed_df.merge(non_region_df, how='left', left_on=['Country','Year of order'], right_on=['sipri_country_mapping','Year'])\n",
    "melt_wdi_sipri_merge.info()"
   ]
  },
  {
   "cell_type": "code",
   "execution_count": null,
   "id": "e1d71446-1260-494e-863d-dd6e7c7f7916",
   "metadata": {},
   "outputs": [],
   "source": [
    "drop_cols = ['Year', 'Region', 'Income Group', 'Country Name', 'sipri_country_mapping']\n",
    "melt_wdi_sipri_merge = melt_wdi_sipri_merge.drop(columns=drop_cols)\n",
    "melt_wdi_sipri_merge= melt_wdi_sipri_merge.merge(country_region_mapping, how='left', left_on='Country', right_on='sipri_country_mapping')\n",
    "melt_wdi_sipri_merge.drop(columns=['sipri_country_mapping'], inplace=True)\n",
    "melt_wdi_sipri_merge.rename(mapper={'Region':'Primary Country Region',\n",
    "                                    'Income Group':'Primary Country Region',\n",
    "                                    'two_alpha_code':'primary_two_alpha_code',\n",
    "                                    #'sipri_country_mapping_x':'sipri_country_mapping'\n",
    "                                   }, axis=1, inplace=True)\n",
    "melt_wdi_sipri_merge= melt_wdi_sipri_merge.merge(country_region_mapping, how='left', left_on='Partner Country', right_on='sipri_country_mapping')\n",
    "melt_wdi_sipri_merge.drop(columns=['sipri_country_mapping'], inplace=True)\n",
    "melt_wdi_sipri_merge.rename(mapper={'Region':'Partner Country Region',\n",
    "                                    'Income Group':'Partner Country Region',\n",
    "                                    'two_alpha_code':'partner_two_alpha_code',\n",
    "                                   # 'sipri_country_mapping_x':'sipri_country_mapping'\n",
    "                                   }, axis=1, inplace=True)\n",
    "\n",
    "melt_wdi_sipri_merge"
   ]
  },
  {
   "cell_type": "code",
   "execution_count": null,
   "id": "86e8f00e-4d41-4e2c-ac0b-6ddbef9e06dd",
   "metadata": {},
   "outputs": [],
   "source": [
    "melt_wdi_sipri_merge.info()"
   ]
  },
  {
   "cell_type": "markdown",
   "id": "22126673-9cf1-44a2-8d8c-f645fd381eef",
   "metadata": {},
   "source": [
    "## Add Latitude and Longitude for each country\n",
    "We need latitude and longitude to create lines between countries in tableau"
   ]
  },
  {
   "cell_type": "code",
   "execution_count": null,
   "id": "a35c95e0-688b-4451-89d0-a03f08f78bcb",
   "metadata": {},
   "outputs": [],
   "source": [
    "lat_long_df = pd.read_csv('raw_data/countries_lat_long.csv')\n",
    "lat_long_df"
   ]
  },
  {
   "cell_type": "code",
   "execution_count": null,
   "id": "de631eb4-cb65-47ff-ba24-d34eb5f9e478",
   "metadata": {},
   "outputs": [],
   "source": [
    "lat_long_df[lat_long_df['country']=='TR']"
   ]
  },
  {
   "cell_type": "code",
   "execution_count": null,
   "id": "55c3b847-e57a-4253-8691-a7c35880bbce",
   "metadata": {},
   "outputs": [],
   "source": [
    "lat_long_df = lat_long_df[~lat_long_df['country'].isna()]"
   ]
  },
  {
   "cell_type": "code",
   "execution_count": null,
   "id": "5f7444ed-7681-4be7-afa6-db8e9aebc173",
   "metadata": {},
   "outputs": [],
   "source": [
    "melt_wdi_sipri_merge= melt_wdi_sipri_merge.merge(lat_long_df, how='left', left_on='primary_two_alpha_code', right_on='country')\n",
    "melt_wdi_sipri_merge.drop(columns=['country','name'], inplace=True)\n",
    "melt_wdi_sipri_merge.rename(mapper={'latitude':'Primary Latitude',\n",
    "                             'longitude':'Primary Longitude'},\n",
    "                             axis=1, inplace=True)\n",
    "\n",
    "melt_wdi_sipri_merge= melt_wdi_sipri_merge.merge(lat_long_df, how='left', left_on='partner_two_alpha_code', right_on='country')\n",
    "melt_wdi_sipri_merge.drop(columns=['country','name'], inplace=True)\n",
    "melt_wdi_sipri_merge.rename(mapper={'latitude':'Partner Latitude',\n",
    "                             'longitude':'Partner Longitude'},\n",
    "                             axis=1, inplace=True)\n",
    "melt_wdi_sipri_merge.head()"
   ]
  },
  {
   "cell_type": "code",
   "execution_count": null,
   "id": "c92cdee8-1b8c-482b-9ace-591ab45688e8",
   "metadata": {},
   "outputs": [],
   "source": [
    "melt_wdi_sipri_merge = melt_wdi_sipri_merge[melt_wdi_sipri_merge['Year of order']>=2000]\n",
    "melt_wdi_sipri_merge.head()"
   ]
  },
  {
   "cell_type": "code",
   "execution_count": null,
   "id": "4995707c-52aa-4abd-9cba-ee0a46ae322e",
   "metadata": {},
   "outputs": [],
   "source": [
    "melt_wdi_sipri_merge[melt_wdi_sipri_merge['Primary Latitude'].isna()]"
   ]
  },
  {
   "cell_type": "code",
   "execution_count": null,
   "id": "9ef8ae95-221b-4f98-9be4-06875d353adb",
   "metadata": {},
   "outputs": [],
   "source": [
    "#melt_wdi_sipri_merge = melt_wdi_sipri_merge.drop(columns=['sipri_country_mapping'])\n",
    "\n",
    "melt_wdi_sipri_merge.to_csv('final_data/'+current_date+'one_row_one_country_data.csv')"
   ]
  },
  {
   "cell_type": "code",
   "execution_count": null,
   "id": "ac6b7102-7d9c-40de-a9b0-e21bcc6aa3f8",
   "metadata": {},
   "outputs": [],
   "source": [
    "melt_wdi_sipri_merge.sort_values('transaction_id').head()"
   ]
  },
  {
   "cell_type": "code",
   "execution_count": null,
   "id": "60d1c889-79b1-4536-931d-183ebc39d74e",
   "metadata": {},
   "outputs": [],
   "source": [
    "melt_wdi_sipri_merge.info()"
   ]
  },
  {
   "cell_type": "code",
   "execution_count": null,
   "id": "cf0f6a57-3221-4df2-899b-84b74e969124",
   "metadata": {},
   "outputs": [],
   "source": [
    "sipri_wdi_merge.head()"
   ]
  },
  {
   "cell_type": "code",
   "execution_count": null,
   "id": "3b8fdb80-26ef-4aaa-b611-cde50079c47b",
   "metadata": {},
   "outputs": [],
   "source": [
    "sipri_wdi_merge.info()"
   ]
  },
  {
   "cell_type": "code",
   "execution_count": null,
   "id": "e5aaac99-f45a-40da-8110-f79fbfaa616e",
   "metadata": {},
   "outputs": [],
   "source": [
    "sipri_wdi_merge.to_csv('final_data/final_nov21_sipri_recipient_indicator_merge.csv')"
   ]
  },
  {
   "cell_type": "code",
   "execution_count": null,
   "id": "ab50e66b-74f2-4d3f-a431-7add4f9436fc",
   "metadata": {},
   "outputs": [],
   "source": [
    "sipri_wdi_merge[(sipri_wdi_merge['sipri_country_mapping'].isna())&(sipri_wdi_merge['Year of order']>2000)]"
   ]
  },
  {
   "cell_type": "code",
   "execution_count": null,
   "id": "430ca0f5-982b-438b-bfe1-aa076f937b0d",
   "metadata": {},
   "outputs": [],
   "source": [
    "sipri_wdi_merge[(sipri_wdi_merge['sipri_country_mapping'].isna())&(sipri_wdi_merge['Year of order']>2000)]['Recipient'].value_counts()"
   ]
  },
  {
   "cell_type": "code",
   "execution_count": null,
   "id": "9b5c9273-01d5-43bb-8a99-8901bbd2576d",
   "metadata": {},
   "outputs": [],
   "source": [
    "non_region_df[(non_region_df['Year']==2007)&(non_region_df['sipri_country_mapping']=='Turkey')]"
   ]
  },
  {
   "cell_type": "code",
   "execution_count": null,
   "id": "ace64798-2258-4db8-996d-af04fbad9a08",
   "metadata": {},
   "outputs": [],
   "source": []
  },
  {
   "cell_type": "code",
   "execution_count": null,
   "id": "d2e9862e-08de-4b4c-b23f-843cb4cc6795",
   "metadata": {},
   "outputs": [],
   "source": []
  },
  {
   "cell_type": "code",
   "execution_count": null,
   "id": "2a853770-7b0c-4817-b659-b1f055e2fe72",
   "metadata": {},
   "outputs": [],
   "source": []
  },
  {
   "cell_type": "code",
   "execution_count": null,
   "id": "79594f5f-c27d-416b-8d1d-0c7589d33029",
   "metadata": {},
   "outputs": [],
   "source": []
  },
  {
   "cell_type": "code",
   "execution_count": null,
   "id": "3de86f4f-09e6-41d0-8d16-ff69beb1fb3c",
   "metadata": {},
   "outputs": [],
   "source": []
  },
  {
   "cell_type": "code",
   "execution_count": null,
   "id": "2edd70a5-de8a-4a64-a40c-5ff6ec04161b",
   "metadata": {},
   "outputs": [],
   "source": []
  },
  {
   "cell_type": "code",
   "execution_count": null,
   "id": "a95732e5-f0b6-40b5-9e0a-933b1934c2c4",
   "metadata": {},
   "outputs": [],
   "source": []
  },
  {
   "cell_type": "code",
   "execution_count": null,
   "id": "d45eaa89-af7e-4edc-b7a1-c19e1b18113c",
   "metadata": {},
   "outputs": [],
   "source": []
  },
  {
   "cell_type": "markdown",
   "id": "69404232-be06-4cd0-8bfb-447977dfccd2",
   "metadata": {},
   "source": [
    "## Create csv with one row per year delivered"
   ]
  },
  {
   "cell_type": "code",
   "execution_count": null,
   "id": "867d49a5-0c61-4e8e-9465-facb6a227e0e",
   "metadata": {},
   "outputs": [],
   "source": [
    "delivered_df = df.dropna(subset=['First Year'])\n",
    "\n",
    "delivered_df['First Year'] = delivered_df['First Year'].astype(int)\n",
    "\n",
    "# Expand rows based on `Num years Delivered In`\n",
    "annual_delivery_df = delivered_df.loc[delivered_df.index.repeat(delivered_df['Num years Delivered In'])].copy()\n",
    "\n",
    "# Calculate the `year_delivered` for each expanded row\n",
    "annual_delivery_df['year_delivered'] = annual_delivery_df.groupby(level=0).cumcount() + annual_delivery_df['First Year']\n",
    "annual_delivery_df['num_delivered_in_year'] = annual_delivery_df['Number delivered']/annual_delivery_df['Num years Delivered In']\n",
    "annual_delivery_df['SIPRI_TIV_delivered_in_year'] = annual_delivery_df['num_delivered_in_year']*annual_delivery_df['SIPRI TIV per unit']\n"
   ]
  },
  {
   "cell_type": "code",
   "execution_count": null,
   "id": "0bd7792d-0793-4a57-8d5d-4e06308bd094",
   "metadata": {},
   "outputs": [],
   "source": [
    "annual_delivery_df = annual_delivery_df.rename(columns={'Number delivered':'Total number delivered'})\n",
    "annual_delivery_df.head()"
   ]
  },
  {
   "cell_type": "code",
   "execution_count": null,
   "id": "5047ef87-0d2b-4e5d-8c78-bf8dc5e03a37",
   "metadata": {},
   "outputs": [],
   "source": [
    "annual_delivery_df.to_csv('final_data/annual_delivery_data.csv')"
   ]
  },
  {
   "cell_type": "code",
   "execution_count": null,
   "id": "f6bab443-14ed-43b6-b79b-42bd44ff2704",
   "metadata": {},
   "outputs": [],
   "source": []
  }
 ],
 "metadata": {
  "kernelspec": {
   "display_name": "arms proj venv",
   "language": "python",
   "name": "arms_venv"
  },
  "language_info": {
   "codemirror_mode": {
    "name": "ipython",
    "version": 3
   },
   "file_extension": ".py",
   "mimetype": "text/x-python",
   "name": "python",
   "nbconvert_exporter": "python",
   "pygments_lexer": "ipython3",
   "version": "3.13.0"
  }
 },
 "nbformat": 4,
 "nbformat_minor": 5
}
