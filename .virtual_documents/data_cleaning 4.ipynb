import pandas as pd
import chardet
import pycountry


with open("raw_data/trade-register.csv", "rb") as f:
    result = chardet.detect(f.read())
    print(result["encoding"])





with open("int_data/unidentified_suppliers.csv", "rb") as f:
    supp_encoding = chardet.detect(f.read())
    print(supp_encoding["encoding"])


unid_supp_df = pd.read_csv('int_data/unidentified_suppliers.csv', encoding = supp_encoding['encoding'], sep='\t').reset_index()
unid_rec_df = pd.read_csv('int_data/unidentified_recipients.csv', encoding = supp_encoding['encoding'],sep='\t').reset_index()

unid_supp_df.head()


unique_unidentified_countries = list(set(unid_supp_df['Supplier']).union(set(unid_rec_df['Recipient'])))
unique_unidentified_countries





df = pd.read_csv('raw_data/trade-register.csv', encoding=result["encoding"])



have_tableau_matches = df[df[['Supplier','Recipient']].isin(unique_unidentified_countries).any(axis=1)]
have_tableau_matches.sort_values('Year of order', ascending=False)





# 10 most valuable per unit items
df.sort_values('SIPRI TIV per unit', ascending=False).head(10)



len(df['Weapon description'].unique())





category_mapping = {
    'Aircraft': [
        'fighter aircraft', 'bomber aircraft', 'transport aircraft', 'reconnaissance aircraft', 
        'trainer aircraft', 'AEW&C aircraft', 'SIGINT aircraft', 'trainer/combat aircraft', 
        'AGS aircraft', 'FGA aircraft', 'FGA/EW aircraft', 'airship', 'target tow aircraft', 'light aircraft', 'ground attack aircraft',
        'ASW aircraft', 'AEW aircraft', 'AEW/AGS aircraft', 'reconnaissance/SIGINT aircraft', 'transport ac/helicopter', 'transport/trainer aircraft', 'airship', 
        'light transport aircraft', 'heavy transport aircraft', 'tanker/transport aircraft', 'trainer/light aircraft', 'light/trainer aircraft'
    ],
    'Helicopters': [
        'combat helicopter', 'transport helicopter', 'ASW helicopter', 'light helicopter', 
        'AEW helicopter', 'anti-ship helicopter', 'SIGINT helicopter', 'helicopter', 'ASW Helicopter'
    ],
    'Unmanned Vehicles': [
        'UAV', 'armed UAV', 'reconnaissance AV', 'maritime patrol UAV', 'light aircraft/UAV', 'loitering munition' 
    ],
    'Naval Vessels': [
        'frigate', 'destroyer', 'corvette', 'patrol craft', 'submarine', 'cargo ship', 'tanker',
        'support ship', 'training ship', 'MCM ship', 'replenishment ship', 'minehunter', 'icebreaker', 
        'OPV', 'OPV/training ship', 'OPV/support ship', 'gunboat', 'landing ship', 'salvage ship', 
        'survey ship', 'cruiser', 'aircraft carrier', 'minelayer', 'replenishment tanker', 
        'corvette/minesweeper', 'OPV/transport ship', 'support/landing ship', 'landing/patrol craft',
        'transport ship', 'FAC (Fast Attack Craft)', 'minesweeper', 'landing craft', 'tug', 'nuclear submarine', 'OPV/tug',
        'frigate/landing ship', 'SSB (Ballistic Missile Submarine)', 'SIGINT ship', 'patrol craft/transport craft', 'transport craft',
        'support craft', 'cargo craft', 'midget submarine', 'icebreaker/OPV', 'FAC', 'SSB'
    ],
    'Ground Vehicles/Artillery': [
        'tank', 'light tank', 'armoured car', 'APC', 'IFV', 'AFSV', 'APV', 'AMV', 'ARV', 'AEV/ARV', 
        'armoured bridgelayer', 'training tank', 'tank turret', 'self-propelled gun chassis', 'tank chassis',
        'APC/APV', 'APC/IFV', 'APC/CP', 'IFV/AFSV', 'IFV/APC turret', 'APC turret', 'IFV turret', 'self-propelled AD system',
        'self-propelled gun', 'self-propelled MRL', 'towed gun', 'self-propelled AA gun', 'coastal defence system', 'AA gun (Anti-Aircraft Gun)',
        'towed MRL', 'ALV (Armored Logistics Vehicle)', 'naval gun', 'tank destroyer', 'mortar', 'self-propelled mortar', 'anti-aircraft gun',
        'SPG turret', 'ASW mortar', 'AEV (Armored Engineering Vehicle)', 'helicopter turret', 'anti-tank AV turret', 'self-propelled AA gun turret',
        'apc (Armored Personnel Carrier)', 'AA gun/SAM system', 'AA gun system', 'coastal defence gun', 'mortar turret', 'AA gun', 'ALV', 'AEV', 'apc'
    ],
    'Missiles/Rockets/Bombs': [
        'SAM', 'portable SAM', 'mobile SAM system', 'naval SAM system', 'SAM system', 'SAM/ABM', 'ABM missile',
        'SSM', 'SSM launcher', 'SSM TEL', 'anti-ship missile', 'anti-radar missile', 'anti-tank missile', 
        'guided bomb', 'guided rocket', 'guided rocket/SSM', 'guided rocket/ASM', 'SSM/ASM', 'anti-ship missile/SSM',
        'anti-ship/land-attack missile', 'land-attack missile', 'anti-tank missile/ASM', 'guided glide bomb',
        'anti-ship/ASW torpedo', 'anti-ship torpedo', 'SSM/anti-ship missile', 'ASW torpedo', 'ASW MRL', 
        'anti-ship missile/ASM', 'BVRAAM', 'BVRAAM/SAM', 'SRAAM', 'ASM', 'ABM/SAM system', 'naval MRL', 'ASM (Anti-Ship Missile)',
        'guided shell', 'ASW missile', 'anti-ship/anti-radar missile', 'naval mine/torpedo', 'ABM system', 'ASW rocket launcher',
        'anti-ship missile/ASM/SAM', 'SLBM (Submarine-Launched Ballistic Missile)', 'ASM', 'SLBM', 'anti-radar missile/ASM'
    ],
    'Radar/Detection Systems': [
        'air search radar', 'AGS radar', 'sea search radar', 'multi-function radar', 'air search system', 
        'fire control radar', 'air/sea search radar', 'artillery locating radar', 'ground surv radar', 
        'ground/sea search radar', 'AEW radar', 'MP aircraft radar', 'aircraft EO system', 
        'aircraft EO/radar system', 'air/ground surv radar', 'SAM system radar', 'multi-role radar', 'radar',
        'combat aircraft radar', 'combat heli radar', 'SONAR', 'submarine sonar', 'ASW sonar', 'SONAR system',
        'aircraft recce system', 'height-finding radar', 'ASW sonar', 'SONAR', 'recce satellite', 'EO search/fire control', 'EO system',
        'AGS/MP aircraft radar', 'Naval EO system', 'AGS/SIGINT system', 'surveillance satellite'
    ],
    'Specialized Equipment': [
        'aircraft engine', 'turbofan', 'turbojet', 'gas turbine', 'vehicle engine', 'AIP engine', 
        'air refuel system', 'maritime patrol aircraft', 'SIGINT system', 
        'SIGINT aircraft', 'AALS', 'VEHICLE ENGINE', 'turbojet', 'nuclear reactor', 'ship engine', 'turboprop'
    ],
    'Other': [
        'SSB' , 'training equipment'
    ]
}

# Expanded sub-category mappings
sub_category_mapping = {
    # Aircraft Sub-categories
    'Aircraft': {
        'Fighter/Combat Aircraft': ['fighter aircraft', 'trainer/combat aircraft', 'FGA aircraft', 'FGA/EW aircraft', 'ground attack aircraft', 'ASW aircraft'],
        'Bomber/Heavy Aircraft': ['bomber aircraft', 'heavy transport aircraft'],
        'Reconnaissance/Surveillance Aircraft': ['reconnaissance aircraft', 'AEW&C aircraft', 'SIGINT aircraft', 'AGS aircraft', 'light aircraft', 'AEW aircraft',
                                                'AEW/AGS aircraft', 'reconnaissance/SIGINT aircraft', 'airship'],
        'Trainer Aircraft': ['trainer aircraft', 'trainer/light aircraft', 'light/trainer aircraft', 'target tow aircraft'],
        'Transport Aircraft': ['transport aircraft', 'light transport aircraft', 'tanker/transport aircraft', 'transport ac/helicopter', 'transport/trainer aircraft']
    },
    # Helicopter Sub-categories
    'Helicopters': {
        'Combat Helicopters': ['combat helicopter', 'ASW helicopter', 'anti-ship helicopter', 'SIGINT helicopter'],
        'Transport/Utility Helicopters': ['transport helicopter', 'light helicopter'],
        'Specialized Helicopters': ['AEW helicopter', 'ASW Helicopter', 'helicopter']
    },
    # Unmanned Vehicles Sub-categories
    'Unmanned Vehicles': {
        'UAV/Drone': ['UAV', 'armed UAV', 'light aircraft/UAV', 'loitering munition'],
        'Reconnaissance/Surveillance UAV': ['reconnaissance AV', 'maritime patrol UAV']
    },
    'Naval Vessels' :{
        'Combat Vessel': ['frigate', 'destroyer', 'corvette', 'submarine', 'gunboat', 'cruiser', 'aircraft carrier', 
                         'corvette/minesweeper', 'FAC (Fast Attack Craft)', 'minesweeper', 'nuclear submarine', 'SSB (Ballistic Missile Submarine)',
                         'midget submarine', 'FAC', 'SSB'],
        'Support Vessel' : [ 'patrol craft', 'cargo ship', 'tanker',
        'support ship', 'training ship', 'MCM ship', 'replenishment ship', 'minehunter', 'icebreaker', 
        'OPV', 'OPV/training ship', 'OPV/support ship', 'landing ship', 'salvage ship', 
        'survey ship', 'minelayer', 'replenishment tanker', 'OPV/transport ship', 'support/landing ship', 
        'landing/patrol craft', 'transport ship', 'landing craft', 'tug', 'OPV/tug', 'frigate/landing ship', 'SIGINT ship', 'patrol craft/transport craft',
        'transport craft', 'support craft', 'cargo craft', 'icebreaker/OPV']
    },
    'Ground Vehicles/Artillery' : {
    'Main Battle Tanks': ['tank', 'light tank', 'training tank', 'tank chassis', 'tank destroyer'],
    'Armored Personnel Carriers (APC)': ['APC', 'APC/APV', 'APC/IFV', 'APC/CP', 'apc (Armored Personnel Carrier)', 'apc'],
    'Infantry Fighting Vehicles (IFV)': ['IFV', 'IFV/AFSV', 'IFV/APC turret', 'IFV turret'],
    'Armored Reconnaissance Vehicles (ARV)': ['ARV', 'AEV/ARV'],
    'Armored Fighting Support Vehicles (AFSV)': ['AFSV', 'AMV', 'ALV (Armored Logistics Vehicle)', 'ALV'],
    'Light Armored Vehicles (APV)': ['APV', 'armoured car'],
    'Self-Propelled Artillery': ['self-propelled gun chassis', 'self-propelled AD system', 'self-propelled gun', 'self-propelled MRL', 'self-propelled AA gun',
                                'AA gun (Anti-Aircraft Gun)', 'self-propelled mortar', 'SPG turret', 'self-propelled AA gun turret'],
    'Engineering Vehicles': ['armoured bridgelayer', 'AEV (Armored Engineering Vehicle)', 'AEV'],
    'Tank Components': ['tank turret'],
    'Artillery' : ['towed gun', 'mortar', 'coastal defence system', 'towed MRL', 'naval gun', 'anti-aircraft gun', 'ASW mortar', 'helicopter turret', 'anti-tank AV turret',
                  'APC turret', 'AA gun/SAM system', 'AA gun system', 'coastal defence gun', 'mortar turret', 'AA gun']
    },
    'Missiles/Rockets/Bombs' : {
    'Surface-to-Air Missiles (SAM)': [
        'SAM', 'portable SAM', 'mobile SAM system', 'naval SAM system', 'SAM system', 'SAM/ABM', 'ABM missile', 'ABM/SAM system', 'ASM (Anti-Ship Missile)', 'ABM system'
    ],
    'Surface-to-Surface Missiles (SSM)': [
        'SSM', 'SSM launcher', 'SSM TEL', 'SSM/ASM', 'SSM/anti-ship missile', 'anti-ship missile/SSM', 'land-attack missile'
    ],
    'Air-to-Air Missiles (AAM)': [
        'BVRAAM', 'SRAAM', 'BVRAAM/SAM'
    ],
    'Anti-Ship Missiles (ASM)': [
        'anti-ship missile', 'anti-ship missile/ASM', 'anti-ship/ASW torpedo', 'anti-ship torpedo', 'SSM/anti-ship missile', 'anti-ship/anti-radar missile',
        'naval mine/torpedo', 'anti-ship missile/ASM/SAM', 'ASM'
    ],
    'Anti-Radar Missiles': [
        'anti-radar missile', 'anti-radar missile/ASM'
    ],
    'Anti-Tank Missiles': [
        'anti-tank missile', 'anti-tank missile/ASM'
    ],
    'Guided Bombs and Rockets': [
        'guided bomb', 'guided rocket', 'guided glide bomb', 'guided rocket/SSM', 'guided rocket/ASM', 'guided shell'
    ],
    'Land-Attack Missiles': [
        'anti-ship/land-attack missile', 'land-attack missile'
    ],
    'Anti-Submarine Warfare (ASW) Weapons': [
        'ASW torpedo', 'ASW MRL', 'anti-ship/ASW torpedo', 'ASW missile', 'ASW rocket launcher'
    ],
    'Naval Rocket Launchers': [
        'naval MRL'
    ],
    'Ballistic Missiles' : ['SLBM (Submarine-Launched Ballistic Missile)', 'SLBM']    
    
    },
    'Radar/Detection Systems' : {
    'Air Search Radar': [
        'air search radar', 'AEW radar', 'air search system', 'air/sea search radar', 'air/ground surv radar'
    ],
    'Sea Search Detection Systems': [
        'sea search radar', 'ground/sea search radar', 'ASW sonar', 'SONAR', 'submarine sonar', 'AGS/MP aircraft radar'
    ],
    'Ground Surveillance Radar': [
        'ground surv radar', 'ground/sea search radar', 'air/ground surv radar', 'AGS/SIGINT system'
    ],
    'Multi-function Radar': [
        'multi-function radar', 'multi-role radar'
    ],
    'Fire Control Radar': [
        'fire control radar', 'SAM system radar', 'AGS radar', 'EO system', 'EO search/fire control', 'Naval EO system'
    ],
    'Artillery/Weapon Locating Radar': [
        'artillery locating radar'
    ],
    'Aircraft-Mounted Systems': [
        'MP aircraft radar', 'aircraft EO system', 'aircraft EO/radar system', 'combat aircraft radar', 'combat heli radar',
        'aircraft recce system'
    ],
    'Other Detection Systems': ['height-finding radar', 'recce satellite', 'surveillance satellite'
                               ]
    },
    'Specialized Equipment' : {
    'Aircraft Engines': [
        'aircraft engine', 'turbofan', 'turbojet', 'turboprop'
    ],
    'Vehicle Engines': [
        'vehicle engine', 'VEHICLE ENGINE', 'gas turbine', 'AIP engine', 'nuclear reactor', 'ship engine'
    ],
    'Refueling and Logistics Systems': [
        'air refuel system', 'AALS'
    ],
    'Intelligence and Surveillance Systems': [
        'SIGINT system', 'SIGINT aircraft', 'maritime patrol aircraft'
    ]
}
    # Add more sub-categories as needed in similar structure...
}

# The mapping functions will work the same, now with the expanded mappings.

def map_category(description):
    for category, items in category_mapping.items():
        if description in items:
            return category
    return 'Unknown'

def map_sub_category(description):
    for category, sub_categories in sub_category_mapping.items():
        for sub_category, items in sub_categories.items():
            if description in items:
                return sub_category
    return 'Unknown'

# Applying the mapping functions
df['Category'] = df['Weapon description'].apply(map_category)
df['Sub-Category'] = df['Weapon description'].apply(map_sub_category)




# Creating a DataFrame with three columns: 'Description', 'Category', and 'Sub-category' for exporting to csv for sharing 
csv_mapping_data = {'Category': [], 'Sub-category': [], 'Description': []}

for category, subcategories in sub_category_mapping.items():
    for sub_category, descriptions in subcategories.items():
        for description in descriptions:
            csv_mapping_data['Category'].append(category)
            csv_mapping_data['Sub-category'].append(sub_category)
            csv_mapping_data['Description'].append(description)

# Generating the DataFrame
df_three_columns = pd.DataFrame(csv_mapping_data)
df_three_columns.head()


df_three_columns.to_csv('final_data/description_mapping.csv')


df[df['Sub-Category']=='Unknown']['Weapon description'].unique()


# drop nonsense columns
df.drop([' .1', ' .2', ' '], axis=1, inplace=True)
df.head()


filtered_df = df[df['Year(s) of delivery'].str.len() > 4]
print(filtered_df['Year(s) of delivery'].unique())




def count_years_delivered(years_of_delivery):
    # Count semicolons and return one less than the count to count number of unique years weapons delivered in
    if isinstance(years_of_delivery, str):
        # Count semicolons if the entry is a string
        return years_of_delivery.count(';')+1
    else:
        # Return 0 for non-string entries (like NaN)
        return 0


df['Num years Delivered In'] = df['Year(s) of delivery'].apply(count_years_delivered)
df.head()


# Get first and last year of delivery in seperate cols


def get_first_year(years_of_delivery):
    if isinstance(years_of_delivery, str):
        # Split the string by semicolons and get the first year, stripping any spaces
        return years_of_delivery.split(';')[0].strip()
    else:
        # Return NaN for non-string entries (like NaN)
        return float('nan')

def get_last_year(years_of_delivery):
    if isinstance(years_of_delivery, str):
        # Split the string by semicolons and get the last year, stripping any spaces
        return years_of_delivery.split(';')[-1].strip()
    else:
        # Return NaN for non-string entries (like NaN)
        return float('nan')


df['First Year'] = df['Year(s) of delivery'].apply(get_first_year)
df['Last Year'] = df['Year(s) of delivery'].apply(get_last_year)
df.head(10)


df.to_csv('final_data/cleaned_transfer_data.csv')





delivered_df = df.dropna(subset=['First Year'])

delivered_df['First Year'] = delivered_df['First Year'].astype(int)

# Expand rows based on `Num years Delivered In`
annual_delivery_df = delivered_df.loc[delivered_df.index.repeat(delivered_df['Num years Delivered In'])].copy()

# Calculate the `year_delivered` for each expanded row
annual_delivery_df['year_delivered'] = annual_delivery_df.groupby(level=0).cumcount() + annual_delivery_df['First Year']
annual_delivery_df['num_delivered_in_year'] = annual_delivery_df['Number delivered']/annual_delivery_df['Num years Delivered In']
annual_delivery_df['SIPRI_TIV_delivered_in_year'] = annual_delivery_df['num_delivered_in_year']*annual_delivery_df['SIPRI TIV per unit']



annual_delivery_df = annual_delivery_df.rename(columns={'Number delivered':'Total number delivered'})
annual_delivery_df.head()


annual_delivery_df.to_csv('final_data/annual_delivery_data.csv')



