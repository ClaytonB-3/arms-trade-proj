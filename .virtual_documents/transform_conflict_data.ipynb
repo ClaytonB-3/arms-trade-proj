import pandas as pd
import chardet
import numpy as np
from datetime import datetime






conflict_df = pd.read_csv('raw_data/Conflicts_2000_2024.csv')


recog_countries_df = pd.read_csv('int_data/tableau_identified_countries.csv')



# Split 'Parties Involved' and explode the DataFrame
conflict_df['parties_involved2'] = conflict_df['parties_involved']
conflict_df['parties_involved2'] = conflict_df['parties_involved'].str.split('; ')
conflict_df = conflict_df.explode('parties_involved2')
conflict_df.rename(columns={'parties_involved2': 'Country'}, inplace=True)


# Rename the 'Parties Involved' column to 'Country'
# Display the result
conflict_df


conflict_df['conflict_range'] = conflict_df['start_year'].astype(str) + ' - ' + conflict_df['end_year'].astype(str)
conflict_df.head()


conflict_df.to_csv('final_data/conflict_data_long.csv')


unique_conflict_countries = conflict_df['Country'].unique().tolist()


unique_tableau_countries = recog_countries_df['Country'].unique().tolist()


countries_not_in_tableau = list(set(unique_conflict_countries) - set(unique_tableau_countries))



countries_not_in_tableau


unique_tableau_countries



